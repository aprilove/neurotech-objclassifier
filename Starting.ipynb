{
 "cells": [
  {
   "cell_type": "code",
   "execution_count": 13,
   "metadata": {},
   "outputs": [],
   "source": [
    "%config IPCompleter.greedy=True"
   ]
  },
  {
   "cell_type": "code",
   "execution_count": 14,
   "metadata": {},
   "outputs": [],
   "source": [
    "from collections import deque\n",
    "from imutils.video import VideoStream\n",
    "import numpy as np\n",
    "import argparse\n",
    "# import imutils\n",
    "import cv2\n",
    "import time"
   ]
  },
  {
   "cell_type": "code",
   "execution_count": 15,
   "metadata": {},
   "outputs": [
    {
     "name": "stderr",
     "output_type": "stream",
     "text": [
      "usage: ipykernel_launcher.py [-h] [-v VIDEO] [-b BUFFER]\n",
      "ipykernel_launcher.py: error: unrecognized arguments: -f C:\\Users\\User\\AppData\\Roaming\\jupyter\\runtime\\kernel-5b371b8d-8ce6-4116-a195-605e3b6a6495.json\n"
     ]
    },
    {
     "ename": "SystemExit",
     "evalue": "2",
     "output_type": "error",
     "traceback": [
      "An exception has occurred, use %tb to see the full traceback.\n",
      "\u001b[1;31mSystemExit\u001b[0m\u001b[1;31m:\u001b[0m 2\n"
     ]
    }
   ],
   "source": [
    "ap = argparse.ArgumentParser()\n",
    "ap.add_argument(\"-v\", \"--video\", help=\"path to the (optional) video file\")\n",
    "ap.add_argument(\"-b\", \"--buffer\", type=int, default=64, help=\"max buffer size\")\n",
    "args = vars(ap.parse_args())\n",
    "\n",
    "balllow = np.array([0,132,162])\n",
    "ballhigh = np.array([26,255,255])\n",
    "pts = deque(maxlen=args['buffer'])"
   ]
  },
  {
   "cell_type": "code",
   "execution_count": null,
   "metadata": {},
   "outputs": [],
   "source": [
    "if not args.get(\"video\", False):\n",
    "    cap = cv2.VideoCapture(0) # Webcam\n",
    "else:\n",
    "    cap = cv2.VideoCapture(args['video']) # Regular Video\n",
    "time.sleep(2.0)\n",
    "\n",
    "while True:\n",
    "    ret, frame = cap.read()\n",
    "    print(frame)\n",
    "    frame = np.flip(frame, axis=1)\n",
    "    # frame = frame[1] if args.get(\"video\", False) else frame\n",
    "    # if frame is None:\n",
    "    #     print(\"frame is none, there's an error\")\n",
    "    #     break\n",
    "    print(\"Frame.shape: {}\".format(frame.shape))\n",
    "    # W = 1000.0\n",
    "    # scale = 60\n",
    "    # (height, width, depth) = frame.shape\n",
    "    # width = int(width * scale / 100)\n",
    "    # height = int(height * scale / 100)\n",
    "    # dim = (width, height)\n",
    "    # frame = cv2.resize(frame, dim, interpolation = cv2.INTER_AREA)\n",
    "\n",
    "    blurred = cv2.GaussianBlur(frame, (11, 11), 0)\n",
    "    hsv = cv2.cvtColor(blurred, cv2.COLOR_BGR2HSV)\n",
    "\n",
    "    mask = cv2.inRange(hsv, balllow, ballhigh)\n",
    "    mask = cv2.erode(mask, None, iterations=2)\n",
    "    mask = cv2.dilate(mask, None, iterations=2)\n",
    "\n",
    "    res = cv2.bitwise_and(frame, frame, mask=mask)\n",
    "    cv2.imshow('frame', frame)\n",
    "    cv2.imshow('Mask', mask)\n",
    "    cv2.imshow('res', res)\n",
    "    if cv2.waitKey(5) & 0xFF == 27: \n",
    "        break\n",
    "\n",
    "    # Destroys all of the HighGUI windows. \n",
    "    cv2.destroyAllWindows() \n",
    "\n",
    "    # release the captured frame \n",
    "    cap.release() \n",
    "    # cnts = cv2.findContours(mask.copy(), cv2.RETR_EXTERNAL, cv2.CHAIN_APPROX_SIMPLE)\n",
    "    # cnts = imutils.grab_contours(cnts)\n",
    "    # center = None\n",
    "\n",
    "    # if len(cnts) > 0:\n",
    "    #     c = max(cnts, key=cv2.contourArea)\n",
    "    #     ((x, y), radius) = cv2.minEnclosingCircle(c)\n",
    "    #     M = cv2.moments(c)\n",
    "    #     center = (int(M[\"m10\"] / M[\"m00\"]), int(M[\"m01\"] / M[\"m00\"]))\n",
    "\n",
    "    #     if radius > 10.0:\n",
    "    #         cv2.circle(frame, (int(x), int(y)), int(radius), (0,255,255), 2)\n",
    "    #         cv2.circle(frame, center, 5, (0, 0, 255), -1)\n",
    "    # pts.appendleft(center)\n",
    "    # for i in range(1,len(pts)):\n",
    "    #     if pts[i-1] is None or pts[i] is None:\n",
    "    #         continue\n",
    "    #     thickness = int(np.sqrt(args['buffer'] / float(i + 1)) * 2.5)\n",
    "    #     cv2.line(frame, pts[i-1], pts[i], (0,0,255), thickness)\n",
    "    # cv2.imshow('Frame', frame)\n",
    "    \n",
    "    # if cv2.waitKey(1) & 0xFF == ord('q'):\n",
    "    #     break\n",
    "    \n",
    "    # if not args.get('video', False):\n",
    "    #     cap.release()\n",
    "    # time.sleep(0.1)"
   ]
  }
 ],
 "metadata": {
  "kernelspec": {
   "display_name": "Python 3",
   "language": "python",
   "name": "python3"
  },
  "language_info": {
   "codemirror_mode": {
    "name": "ipython",
    "version": 3
   },
   "file_extension": ".py",
   "mimetype": "text/x-python",
   "name": "python",
   "nbconvert_exporter": "python",
   "pygments_lexer": "ipython3",
   "version": "3.7.3"
  }
 },
 "nbformat": 4,
 "nbformat_minor": 2
}
